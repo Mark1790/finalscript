{
 "cells": [
  {
   "cell_type": "code",
   "execution_count": 3,
   "metadata": {},
   "outputs": [
    {
     "data": {
      "text/plain": [
       "'print(\"Hola mundo\")'"
      ]
     },
     "execution_count": 3,
     "metadata": {},
     "output_type": "execute_result"
    }
   ],
   "source": [
    "print(\"Hola mundo\")"
   ]
  },
  {
   "cell_type": "code",
   "execution_count": 5,
   "metadata": {},
   "outputs": [],
   "source": [
    "age = 31\n",
    "name= \"profe Python\"\n",
    "is_cool= True\n",
    "numbers = [1, 2, 3, 4, 5, 6]\n",
    "tuplas = (\"Uno\" ,\"Dos\", \"Tres\")\n",
    "serie = set((1,2,3,4,5,6,7,8))\n"
   ]
  },
  {
   "cell_type": "code",
   "execution_count": 6,
   "metadata": {},
   "outputs": [
    {
     "name": "stdout",
     "output_type": "stream",
     "text": [
      "31\n"
     ]
    }
   ],
   "source": [
    "print(age)\n",
    "print(name)\n",
    "print(is_cool)\n",
    "print(numbers)\n",
    "print(tuplas)\n",
    "print(serie)"
   ]
  },
  {
   "cell_type": "code",
   "execution_count": null,
   "metadata": {},
   "outputs": [],
   "source": [
    "<class 'init'>\n",
    "<class 'list'>\n",
    "<class 'bool'>\n",
    "<class 'float'>\n",
    "{1,2,3,4,5,6,7,8}"
   ]
  },
  {
   "attachments": {},
   "cell_type": "markdown",
   "metadata": {},
   "source": [
    "# Operadores\n",
    "1 +\n",
    "2 -\n",
    "3 *\n",
    "4 /\n",
    "5 //\n",
    "6 %"
   ]
  },
  {
   "cell_type": "code",
   "execution_count": 7,
   "metadata": {},
   "outputs": [
    {
     "name": "stdout",
     "output_type": "stream",
     "text": [
      "0\n"
     ]
    }
   ],
   "source": [
    "print(6%2)"
   ]
  },
  {
   "cell_type": "code",
   "execution_count": 8,
   "metadata": {},
   "outputs": [
    {
     "name": "stdout",
     "output_type": "stream",
     "text": [
      "6.25\n"
     ]
    }
   ],
   "source": [
    "print(25/4)"
   ]
  },
  {
   "cell_type": "code",
   "execution_count": 9,
   "metadata": {},
   "outputs": [
    {
     "name": "stdout",
     "output_type": "stream",
     "text": [
      "WohoooWohoooWohoooWohoooWohooo\n"
     ]
    }
   ],
   "source": [
    "print('Wohooo' * 5)"
   ]
  },
  {
   "cell_type": "code",
   "execution_count": 13,
   "metadata": {},
   "outputs": [
    {
     "name": "stdout",
     "output_type": "stream",
     "text": [
      "Eres mayor de edad\n"
     ]
    }
   ],
   "source": [
    "age = int (input(\"Dame tu edad: \"))\n",
    "def isAdulto(age):\n",
    "    if age > 18:\n",
    "        print (\"Eres mayor de edad\")\n",
    "    else:\n",
    "        print (\"Eres menor de edad\")\n",
    "        \n",
    "isAdulto(age)"
   ]
  },
  {
   "attachments": {},
   "cell_type": "markdown",
   "metadata": {},
   "source": [
    "##### Guess a number please\n",
    "1. Elegir un numero random\n",
    "2. Yo le digo un numero\n",
    "3. Si el numero es mas grande le digo que esta frio\n",
    "4. Si el numero es mas chico le digo que esta caliente\n"
   ]
  },
  {
   "cell_type": "code",
   "execution_count": 28,
   "metadata": {},
   "outputs": [
    {
     "name": "stdout",
     "output_type": "stream",
     "text": [
      "Te fuiste muy arriba\n",
      "Te fuiste muy arriba\n",
      "Te fuiste muy abajo\n",
      "Te fuiste muy abajo\n",
      "Te fuiste muy abajo\n",
      "Te fuiste muy abajo\n",
      "Te fuiste muy abajo\n",
      "Te fuiste muy abajo\n",
      "Te fuiste muy abajo\n",
      "Te fuiste muy abajo\n",
      "Te fuiste muy arriba\n",
      "Te fuiste muy arriba\n",
      "Te fuiste muy arriba\n",
      "Te fuiste muy abajo\n",
      "Te fuiste muy arriba\n",
      "Te fuiste muy arriba\n",
      "Te fuiste muy arriba\n",
      "Te fuiste muy arriba\n",
      "Felicidades, el número era: 24\n"
     ]
    }
   ],
   "source": [
    "import random\n",
    "\n",
    "def guess(top):\n",
    "    random_number = random.randint(1, top)\n",
    "    ### print(f\"El número al azar es: {random_number}\")\n",
    "    user_guess = 0\n",
    "    while user_guess != random_number:\n",
    "        user_guess = int(input(\"Adivina el número: \"))\n",
    "        if user_guess > random_number:\n",
    "            print(\"Te fuiste muy arriba\")\n",
    "        elif user_guess < random_number:\n",
    "            print(\"Te fuiste muy abajo\")\n",
    "\n",
    "    print(f\"Felicidades, el número era: {user_guess}\")\n",
    "\n",
    "guess(100)\n",
    "\n"
   ]
  },
  {
   "attachments": {},
   "cell_type": "markdown",
   "metadata": {},
   "source": [
    "#### Consumir una Api con Pyton (Primera parte)\n",
    "libreria request"
   ]
  }
 ],
 "metadata": {
  "kernelspec": {
   "display_name": "Python 3 (ipykernel)",
   "language": "python",
   "name": "python3"
  },
  "language_info": {
   "codemirror_mode": {
    "name": "ipython",
    "version": 3
   },
   "file_extension": ".py",
   "mimetype": "text/x-python",
   "name": "python",
   "nbconvert_exporter": "python",
   "pygments_lexer": "ipython3",
   "version": "3.11.2"
  },
  "orig_nbformat": 4
 },
 "nbformat": 4,
 "nbformat_minor": 2
}
